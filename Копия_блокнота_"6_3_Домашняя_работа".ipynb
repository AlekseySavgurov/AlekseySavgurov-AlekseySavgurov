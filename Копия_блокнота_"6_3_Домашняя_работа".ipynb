{
  "nbformat": 4,
  "nbformat_minor": 0,
  "metadata": {
    "colab": {
      "provenance": [],
      "include_colab_link": true
    },
    "kernelspec": {
      "name": "python3",
      "display_name": "Python 3"
    },
    "language_info": {
      "name": "python"
    }
  },
  "cells": [
    {
      "cell_type": "markdown",
      "metadata": {
        "id": "view-in-github",
        "colab_type": "text"
      },
      "source": [
        "<a href=\"https://colab.research.google.com/github/AlekseySavgurov/AlekseySavgurov-AlekseySavgurov/blob/main/%D0%9A%D0%BE%D0%BF%D0%B8%D1%8F_%D0%B1%D0%BB%D0%BE%D0%BA%D0%BD%D0%BE%D1%82%D0%B0_%226_3_%D0%94%D0%BE%D0%BC%D0%B0%D1%88%D0%BD%D1%8F%D1%8F_%D1%80%D0%B0%D0%B1%D0%BE%D1%82%D0%B0%22.ipynb\" target=\"_parent\"><img src=\"https://colab.research.google.com/assets/colab-badge.svg\" alt=\"Open In Colab\"/></a>"
      ]
    },
    {
      "cell_type": "markdown",
      "source": [
        "## Задача 1. Книги без буквы E."
      ],
      "metadata": {
        "id": "ZzjUAyrL6jgO"
      }
    },
    {
      "cell_type": "markdown",
      "source": [
        "**Условие.** В истории литературы известен случай написания романа объемом около\n",
        "50 тыс. слов, в котором ни разу не была употреблена самая популярная\n",
        "в английском алфавите буква E. Название его – «Gadsby».\n",
        "Напишите программу, которая будет считывать список слов из файла и собирать статистику о том, в каком проценте слов используется каждая буква алфавита. Выведите результат для всех 26 букв английского алфавита и отдельно отметьте букву, которая встречалась в словах наиболее редко. В  вашей программе должны игнорироваться знаки препинания и регистр символов.\n"
      ],
      "metadata": {
        "id": "M4OAOB6s6mU7"
      }
    },
    {
      "cell_type": "markdown",
      "source": [
        "**Подсказки.**\n",
        "1. Переведите все слова в верхний регистр:\n",
        "```\n",
        "word = word.upper().rstrip() # upper - переводит строку в верхний регистр\n",
        "```\n",
        "2. Создайте словарь со счетчиком слов, содержащий каждую букву\n",
        "```\n",
        "# Для каждой буквы инициализируем счетчик нулем\n",
        "counts = {}\n",
        "for ch in \"ABCDEFGHIJKLMNOPQRSTUVWXYZ\":\n",
        "       counts[ch] = 0\n",
        "```\n",
        "3. Наиболее редко используемые буквы можно найти следующим образом:\n",
        "```\n",
        "smallest_count = min(counts.values()) # min - возвращает наименьшее число в списке\n",
        "```"
      ],
      "metadata": {
        "id": "1X5QIF1nryYd"
      }
    },
    {
      "cell_type": "code",
      "source": [
        "import string\n",
        "import collections\n",
        "from collections import Counter\n",
        "\n",
        "with open (\"words.txt\", \"r\") as f:\n",
        "    words = [word.upper().rstrip() for word in f] # upper - переводит строку в верхний регистр\n",
        "\n",
        "    words = [word.translate(str.maketrans(\" \", \" \", string.punctuation)) for word in words] #удаляем знаки препинания\n",
        "\n",
        "    words = word.split () #превращаем текст в смисок слов\n",
        "\n",
        "letter_counter = Counter(\" \".join(words)) # подсчет ообщего кол-ва букв\n",
        "\n",
        "counts = {} # создаем словарь со счетчиком для каждой буквы\n",
        "for ch in \"ABCDEFGHIJKLMNOPQRSTUVWXYZ\":\n",
        "    counts[ch] = 0\n",
        "\n",
        "for word in words:\n",
        "    for letter in word:\n",
        "        counts [letter] +=1\n",
        "\n",
        "smallest_count = min(counts.values()) # min - возвращает наименьшее число в списке\n",
        "\n",
        "\n",
        "# Составляем список букв, которые встречаются реже всего\n",
        "least_common_letters = [letter for letter, count in counts.items() if count == smallest_count]\n",
        "\n",
        "# Подсчет общего количества слов\n",
        "word_count = len(words)\n",
        "\n",
        "# Вычисление статистики использования букв\n",
        "letter_statistics = {}\n",
        "for letter in \"ABCDEFGHIJKLMNOPQRSTUVWXYZ\":\n",
        "    # процент использования буквы\n",
        "    letter_statistics[letter] = (counts[letter] / word_count) * 100 if word_count > 0 else 0\n",
        "\n",
        "# Вывод статистики использования каждой буквы\n",
        "print('СТАТИСТИКА ИСПОЛЬЗОВАНИЯ БУКВ:')\n",
        "for letter, percentage in letter_statistics.items():\n",
        "    print(f'{letter}: {percentage}%')\n",
        "\n",
        "# Выводим наименее часто встречающиеся буквы\n",
        "if least_common_letters:\n",
        "    print(f'НАИБОЛЕЕ РЕДКО ВСТРЕЧАЮЩАЯСЯ БУКВА/БУКВЫ: {least_common_letters}')"
      ],
      "metadata": {
        "id": "C2W-ZDOF6mzF"
      },
      "execution_count": null,
      "outputs": []
    },
    {
      "cell_type": "markdown",
      "source": [
        "## Задание 2. Веб-скрейпинг ИИ новостей"
      ],
      "metadata": {
        "id": "m5K8F02cbJ3c"
      }
    },
    {
      "cell_type": "markdown",
      "source": [
        "**Описание задания.** Используя пример веб-скрейпинга практической части урока, проведите скрейпинг сайта с новостями из сферы ИИ (https://2051.vision/category/ii/), выведите на экран заголовки новостей."
      ],
      "metadata": {
        "id": "LPb3n5UqbRAD"
      }
    },
    {
      "cell_type": "code",
      "source": [],
      "metadata": {
        "id": "ZkPXxvZldHnx"
      },
      "execution_count": null,
      "outputs": []
    },
    {
      "cell_type": "code",
      "source": [
        "!pip install beautifulsoup4 requests html5lib #установим недостающие библиотеки"
      ],
      "metadata": {
        "colab": {
          "base_uri": "https://localhost:8080/"
        },
        "id": "mMtD_wg2yc7m",
        "outputId": "8d181545-8fb3-400e-f789-f9238496bbe2"
      },
      "execution_count": null,
      "outputs": [
        {
          "output_type": "stream",
          "name": "stdout",
          "text": [
            "Requirement already satisfied: beautifulsoup4 in /usr/local/lib/python3.10/dist-packages (4.12.3)\n",
            "Requirement already satisfied: requests in /usr/local/lib/python3.10/dist-packages (2.31.0)\n",
            "Requirement already satisfied: html5lib in /usr/local/lib/python3.10/dist-packages (1.1)\n",
            "Requirement already satisfied: soupsieve>1.2 in /usr/local/lib/python3.10/dist-packages (from beautifulsoup4) (2.5)\n",
            "Requirement already satisfied: charset-normalizer<4,>=2 in /usr/local/lib/python3.10/dist-packages (from requests) (3.3.2)\n",
            "Requirement already satisfied: idna<4,>=2.5 in /usr/local/lib/python3.10/dist-packages (from requests) (3.7)\n",
            "Requirement already satisfied: urllib3<3,>=1.21.1 in /usr/local/lib/python3.10/dist-packages (from requests) (2.0.7)\n",
            "Requirement already satisfied: certifi>=2017.4.17 in /usr/local/lib/python3.10/dist-packages (from requests) (2024.2.2)\n",
            "Requirement already satisfied: six>=1.9 in /usr/local/lib/python3.10/dist-packages (from html5lib) (1.16.0)\n",
            "Requirement already satisfied: webencodings in /usr/local/lib/python3.10/dist-packages (from html5lib) (0.5.1)\n"
          ]
        }
      ]
    },
    {
      "cell_type": "code",
      "source": [
        "from bs4 import BeautifulSoup\n",
        "import requests\n",
        "\n",
        "# Получим с сайта RBС топ свежих новостей\n",
        "\n",
        "url = (\"https://2051.vision/category/ii/\") # Зададим адрес новостного сайта для GET-запроса библиотеки requests\n",
        "html = requests.get(url).text # Извлекаем из тела ответа текстовые данные\n",
        "soup = BeautifulSoup(html, 'html5lib') # Применяем к данным анализатор html5lib\n",
        "\n",
        "for h3 in soup.find_all('h3'):\n",
        "    print(h3.text)\n"
      ],
      "metadata": {
        "id": "E2UFxRjFi_aW",
        "colab": {
          "base_uri": "https://localhost:8080/"
        },
        "outputId": "7c337c93-6387-4f60-f5eb-279192b06b25"
      },
      "execution_count": null,
      "outputs": [
        {
          "output_type": "stream",
          "name": "stdout",
          "text": [
            "ЕС учредил Управление по ИИ — контролирующий орган в сфере искусственного интеллекта\n",
            "OpenAI приступила к обучению следующего поколения ИИ-моделей\n",
            "За дипфейки хотят ввести уголовную ответственность\n",
            "Чат-боты загоняют нас в информационный пузырь\n",
            "O for Omni: OpenAI показала новую ChatGPT\n",
            "OpenAI работает над поисковиком?\n",
            "Sora создала первый полноценный клип\n",
            "Claude 3 Opus оказался умнее ChatGPT 4. Неужели этот ИИ обладает самосознанием?\n",
            "Microsoft создала самую маленькую большую языковую модель\n",
            "ИИ: как это устроено\n",
            "Когда в утиль? В МАИ разрабатывают систему, которая позволит прогнозировать остаточный ресурс двигателей самолета\n",
            "За несколько минут до старта пуск Boeing Starliner был отменен\n",
            "В октябре зонд Hera отправится изучать астероиды Дидим и Диморф\n",
            "Новый антибиотик убивает супербактерии, но не полезные микробы в кишечнике\n"
          ]
        }
      ]
    }
  ]
}